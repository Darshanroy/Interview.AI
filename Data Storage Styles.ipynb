{
 "cells": [
  {
   "cell_type": "markdown",
   "id": "e71a3ef4",
   "metadata": {},
   "source": [
    "# Questions Data "
   ]
  },
  {
   "cell_type": "markdown",
   "id": "5998fe42",
   "metadata": {},
   "source": [
    "### Question ID - Questions -  Answers from wikipedia"
   ]
  },
  {
   "cell_type": "code",
   "execution_count": 1,
   "id": "6a52a5e0",
   "metadata": {},
   "outputs": [],
   "source": [
    "questions = {\n",
    "    \"PY1\": \"What is Python?\",\n",
    "    \"PY2\": \"Python is an interpreted language. Explain.\",\n",
    "    \"PY3\": \"What distinguishes lists from tuples?\",\n",
    "    \"PY4\": \"What is PEP 8?\",\n",
    "    \"PY5\": \"What are the Key features of Python?\",\n",
    "    \"PY6\": \"How is Memory managed in Python?\",\n",
    "    \"PY7\": \"What is PYTHONPATH?\",\n",
    "    \"PY8\": \"What are Python Modules?\",\n",
    "    \"PY9\": \"What are python namespaces?\",\n",
    "    \"PY10\": \"What is scope resolution?\",\n",
    "    \"PY11\": \"What is a dictionary in Python?\",\n",
    "    \"PY12\": \"What are functions in Python?\",\n",
    "    \"PY13\": \"What is __init__ in Python?\",\n",
    "    \"PY14\": \"What are the common built-in data types in Python?\",\n",
    "    \"PY15\": \"What are local variables and global variables in Python?\",\n",
    "    \"PY16\": \"What is type conversion in Python?\",\n",
    "    \"PY17\": \"How to install Python on Windows and set a path variable?\",\n",
    "    \"PY18\": \"What is the difference between Python Arrays and lists?\",\n",
    "    \"PY19\": \"Is Python case sensitive?\",\n",
    "    \"PY20\": \"What does [::-1] do?\",\n",
    "    \"PY21\": \"What are Python packages?\",\n",
    "    \"PY22\": \"What are decorators?\",\n",
    "    \"PY23\": \"Is indentation required in Python?\",\n",
    "    \"PY24\": \"How does break, continue, and pass work?\",\n",
    "    \"PY25\": \"How can you randomize the items of a list in place in Python?\",\n",
    "    \"PY26\": \"How to comment with multiple lines in Python?\",\n",
    "    \"PY27\": \"What type of language is python? Programming or scripting?\",\n",
    "    \"PY28\": \"What are negative indexes and why are they used?\",\n",
    "    \"PY29\": \"Explain split(), sub(), subn() methods of “re” module in Python?\",\n",
    "    \"PY30\": \"What do you mean by Python literals?\",\n",
    "    \"PY31\": \"What is a map function in Python?\",\n",
    "    \"PY32\": \"What are generators in Python?\",\n",
    "    \"PY33\": \"What are Python iterators?\",\n",
    "    \"PY34\": \"Do we need to declare variables with respective data types in Python?\",\n",
    "    \"PY35\": \"What are Dict and List comprehensions?\",\n",
    "    \"PY36\": \"How do you write comments in Python?\",\n",
    "    \"PY37\": \"Is multiple inheritance supported in Python?\",\n",
    "    \"PY38\": \"What is the difference between range & xrange?\",\n",
    "    \"PY39\": \"What is pickling and unpickling?\",\n",
    "    \"PY40\": \"What do you understand by the word Tkinter?\",\n",
    "    \"PY41\": \"Is Python fully object oriented?\",\n",
    "    \"PY42\": \"Differentiate between NumPy and SciPy?\",\n",
    "    \"PY43\": \"Explain all file processing modes supported in Python?\",\n",
    "    \"PY44\": \"What do file-related modules in Python do? Can you name some file-related modules in Python?\",\n",
    "    \"PY45\": \"Explain the use of the 'with' statement and its syntax?\",\n",
    "    \"PY46\": \"Write a code to display the contents of a file in reverse?\",\n",
    "    \"PY47\": \"Which of the following is an invalid statement?\",\n",
    "    \"PY48\": \"Write a command to open the file c:\\hello.txt for writing?\",\n",
    "    \"PY49\": \"What does len() do?\",\n",
    "    \"PY50\": \"What does *args and **kwargs mean in Python?\",\n",
    "    \"PY51\": \"How will you remove duplicate elements from a list?\",\n",
    "    \"PY52\": \"How can files be deleted in Python?\",\n",
    "    \"PY53\": \"How will you read a random line in a file?\",\n",
    "    \"PY54\": \"Write a Python program to count the total number of lines in a text file?\",\n",
    "    \"PY55\": \"What would be the output if I run the following code block?\",\n",
    "    \"PY56\": \"What is the purpose of “is”, “not” and “in” operators?\",\n",
    "    \"PY57\": \"Whenever Python exits, why isn’t all the memory de-allocated?\",\n",
    "    \"PY58\": \"How can the ternary operators be used in Python?\",\n",
    "    \"PY59\": \"How to add values to a python array?\",\n",
    "    \"PY60\": \"How to remove values to a python array?\",\n",
    "    \"PY61\": \"Write a code to sort a numerical list in Python?\",\n",
    "    \"PY62\": \"Can you write an efficient code to count the number of capital letters in a file?\",\n",
    "    \"PY63\": \"How will you reverse a list in Python?\",\n",
    "    \"PY64\": \"How will you remove the last object from a list in Python?\",\n",
    "    \"PY65\": \"How can you generate random numbers in Python?\",\n",
    "    \"PY66\": \"How will you convert a string to all lowercase?\",\n",
    "    \"PY67\": \"Why would you use NumPy arrays instead of lists in Python?\",\n",
    "    \"PY68\": \"What is polymorphism in Python?\",\n",
    "    \"PY69\": \"Define encapsulation in Python?\",\n",
    "    \"PY70\": \"What advantages do NumPy arrays offer over (nested) Python lists?\",\n",
    "    \"PY71\": \"What is the lambda function in Python?\",\n",
    "    \"PY72\": \"What is self in Python?\",\n",
    "    \"PY73\": \"What is the difference between append() and extend() methods?\",\n",
    "    \"PY74\": \"How does Python Flask handle database requests?\",\n",
    "    \"PY75\": \"What is docstring in Python?\",\n",
    "    \"PY76\": \"How is multi-threading achieved in Python?\",\n",
    "    \"PY77\": \"What is slicing in Python?\",\n",
    "    \"PY78\": \"What is functional programming? Does Python follow a functional programming style? If yes, list a few methods to implement functionally oriented programming in Python.\",\n",
    "    \"PY79\": \"Which one of the following is not the correct syntax for creating a set in Python?\",\n",
    "    \"PY80\": \"What is monkey patching in Python?\",\n",
    "    \"PY81\": \"What is the difference between / and // operator in Python?\",\n",
    "    \"PY82\": \"What is pandas?\",\n",
    "    \"PY83\": \"What are dataframes?\",\n",
    "    \"PY84\": \"How to combine dataframes in pandas?\",\n",
    "    \"PY85\": \"How do you identify missing values and deal with missing values in Dataframe?\",\n",
    "    \"PY86\": \"What is regression?\",\n",
    "    \"PY87\": \"What is classification?\",\n",
    "    \"PY88\": \"How do you split the data in train and test dataset in python?\",\n",
    "    \"PY89\": \"What is SVM?\"\n",
    "}\n"
   ]
  },
  {
   "cell_type": "markdown",
   "id": "a7e2fe7b",
   "metadata": {},
   "source": []
  },
  {
   "cell_type": "markdown",
   "id": "a2ef3a60",
   "metadata": {},
   "source": []
  },
  {
   "cell_type": "markdown",
   "id": "a46298f4",
   "metadata": {},
   "source": []
  },
  {
   "cell_type": "markdown",
   "id": "be657f8c",
   "metadata": {},
   "source": []
  },
  {
   "cell_type": "markdown",
   "id": "b685002e",
   "metadata": {},
   "source": []
  },
  {
   "cell_type": "markdown",
   "id": "b09256fa",
   "metadata": {},
   "source": []
  },
  {
   "cell_type": "markdown",
   "id": "38a27517",
   "metadata": {},
   "source": []
  },
  {
   "cell_type": "markdown",
   "id": "102ab025",
   "metadata": {},
   "source": []
  }
 ],
 "metadata": {
  "kernelspec": {
   "display_name": "Python 3 (ipykernel)",
   "language": "python",
   "name": "python3"
  },
  "language_info": {
   "codemirror_mode": {
    "name": "ipython",
    "version": 3
   },
   "file_extension": ".py",
   "mimetype": "text/x-python",
   "name": "python",
   "nbconvert_exporter": "python",
   "pygments_lexer": "ipython3",
   "version": "3.11.4"
  }
 },
 "nbformat": 4,
 "nbformat_minor": 5
}
