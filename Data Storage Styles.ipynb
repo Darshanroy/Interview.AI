{
 "cells": [
  {
   "cell_type": "markdown",
   "id": "e71a3ef4",
   "metadata": {},
   "source": [
    "# Questions Data "
   ]
  },
  {
   "cell_type": "markdown",
   "id": "5998fe42",
   "metadata": {},
   "source": [
    "### Question ID - Questions -  Answers from wikipedia"
   ]
  },
  {
   "cell_type": "markdown",
   "id": "a7e2fe7b",
   "metadata": {},
   "source": []
  },
  {
   "cell_type": "markdown",
   "id": "a2ef3a60",
   "metadata": {},
   "source": []
  },
  {
   "cell_type": "markdown",
   "id": "a46298f4",
   "metadata": {},
   "source": []
  },
  {
   "cell_type": "markdown",
   "id": "be657f8c",
   "metadata": {},
   "source": []
  },
  {
   "cell_type": "markdown",
   "id": "b685002e",
   "metadata": {},
   "source": []
  },
  {
   "cell_type": "markdown",
   "id": "b09256fa",
   "metadata": {},
   "source": []
  },
  {
   "cell_type": "markdown",
   "id": "38a27517",
   "metadata": {},
   "source": []
  },
  {
   "cell_type": "markdown",
   "id": "102ab025",
   "metadata": {},
   "source": []
  }
 ],
 "metadata": {
  "kernelspec": {
   "display_name": "Python 3 (ipykernel)",
   "language": "python",
   "name": "python3"
  },
  "language_info": {
   "codemirror_mode": {
    "name": "ipython",
    "version": 3
   },
   "file_extension": ".py",
   "mimetype": "text/x-python",
   "name": "python",
   "nbconvert_exporter": "python",
   "pygments_lexer": "ipython3",
   "version": "3.11.4"
  }
 },
 "nbformat": 4,
 "nbformat_minor": 5
}
