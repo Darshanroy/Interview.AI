{
 "cells": [
  {
   "cell_type": "markdown",
   "id": "1749b77d",
   "metadata": {},
   "source": [
    "# Creating the Base model "
   ]
  },
  {
   "cell_type": "markdown",
   "id": "f3b72ed7",
   "metadata": {},
   "source": [
    "## Brute Force Approach\n",
    "\n",
    "\n",
    "### 1. Take one LLM model\n",
    "### 2. extarct the questions (particular where user choose)\n",
    "### 3. store all the questions and design a prompt where  every time we send a question level and questions list, finally we will get the question on realtime with specified level\n",
    "        "
   ]
  },
  {
   "cell_type": "markdown",
   "id": "1009e609",
   "metadata": {},
   "source": [
    "# Assumptions\n",
    "\n",
    "1. here we are focusing on single tech stack at a time"
   ]
  },
  {
   "cell_type": "markdown",
   "id": "c587c8ee",
   "metadata": {},
   "source": [
    "### Features \n",
    "1. realtime chat like \"Pass the question \" , \"i can you explain about the question \" , \"as the different question \"  \n",
    "2. Coding questions where allows to ask coding questions"
   ]
  },
  {
   "cell_type": "markdown",
   "id": "db7b2503",
   "metadata": {},
   "source": []
  },
  {
   "cell_type": "markdown",
   "id": "90c7ec61",
   "metadata": {},
   "source": []
  },
  {
   "cell_type": "markdown",
   "id": "5e51a6ac",
   "metadata": {},
   "source": []
  },
  {
   "cell_type": "markdown",
   "id": "ff4f5bdf",
   "metadata": {},
   "source": []
  },
  {
   "cell_type": "markdown",
   "id": "a35761e6",
   "metadata": {},
   "source": []
  },
  {
   "cell_type": "markdown",
   "id": "0c4fbee5",
   "metadata": {},
   "source": []
  },
  {
   "cell_type": "markdown",
   "id": "f7f1c18e",
   "metadata": {},
   "source": []
  },
  {
   "cell_type": "markdown",
   "id": "6b739a31",
   "metadata": {},
   "source": []
  },
  {
   "cell_type": "markdown",
   "id": "610d7d18",
   "metadata": {},
   "source": []
  },
  {
   "cell_type": "markdown",
   "id": "03c88a84",
   "metadata": {},
   "source": []
  },
  {
   "cell_type": "markdown",
   "id": "f3c4192e",
   "metadata": {},
   "source": []
  }
 ],
 "metadata": {
  "kernelspec": {
   "display_name": "Python 3 (ipykernel)",
   "language": "python",
   "name": "python3"
  },
  "language_info": {
   "codemirror_mode": {
    "name": "ipython",
    "version": 3
   },
   "file_extension": ".py",
   "mimetype": "text/x-python",
   "name": "python",
   "nbconvert_exporter": "python",
   "pygments_lexer": "ipython3",
   "version": "3.11.4"
  }
 },
 "nbformat": 4,
 "nbformat_minor": 5
}
