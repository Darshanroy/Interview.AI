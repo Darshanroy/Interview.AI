{
 "cells": [
  {
   "cell_type": "markdown",
   "id": "81d75b10",
   "metadata": {},
   "source": [
    "# Creating the Base model "
   ]
  },
  {
   "cell_type": "markdown",
   "id": "2ee90de7",
   "metadata": {},
   "source": [
    "## Brute Force Approach\n",
    "\n",
    "\n",
    "### 1. Take one LLM model\n",
    "### 2. extarct the questions (particular where user choose)\n",
    "### 3. store all the questions and design a prompt where  every time we send a question level and questions list, finally we will get the question on realtime with specified level\n",
    "        "
   ]
  },
  {
   "cell_type": "markdown",
   "id": "a08ad2ce",
   "metadata": {},
   "source": []
  },
  {
   "cell_type": "markdown",
   "id": "d0a314de",
   "metadata": {},
   "source": []
  },
  {
   "cell_type": "markdown",
   "id": "ef85bc8b",
   "metadata": {},
   "source": []
  },
  {
   "cell_type": "markdown",
   "id": "dc35e5f0",
   "metadata": {},
   "source": []
  },
  {
   "cell_type": "markdown",
   "id": "b8cce818",
   "metadata": {},
   "source": []
  },
  {
   "cell_type": "markdown",
   "id": "b61b023a",
   "metadata": {},
   "source": []
  },
  {
   "cell_type": "markdown",
   "id": "b986a976",
   "metadata": {},
   "source": []
  },
  {
   "cell_type": "markdown",
   "id": "b53124fe",
   "metadata": {},
   "source": []
  },
  {
   "cell_type": "markdown",
   "id": "1980ad45",
   "metadata": {},
   "source": []
  },
  {
   "cell_type": "markdown",
   "id": "6bcd498e",
   "metadata": {},
   "source": []
  },
  {
   "cell_type": "markdown",
   "id": "c2ad86a5",
   "metadata": {},
   "source": []
  },
  {
   "cell_type": "markdown",
   "id": "591fb8ea",
   "metadata": {},
   "source": []
  }
 ],
 "metadata": {
  "kernelspec": {
   "display_name": "Python 3 (ipykernel)",
   "language": "python",
   "name": "python3"
  },
  "language_info": {
   "codemirror_mode": {
    "name": "ipython",
    "version": 3
   },
   "file_extension": ".py",
   "mimetype": "text/x-python",
   "name": "python",
   "nbconvert_exporter": "python",
   "pygments_lexer": "ipython3",
   "version": "3.11.4"
  }
 },
 "nbformat": 4,
 "nbformat_minor": 5
}
